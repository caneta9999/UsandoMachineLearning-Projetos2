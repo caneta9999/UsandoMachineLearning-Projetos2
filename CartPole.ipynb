{
 "cells": [
  {
   "cell_type": "code",
   "execution_count": null,
   "metadata": {},
   "outputs": [],
   "source": [
    "#Credits and Thanks\n",
    "#https://stable-baselines3.readthedocs.io/en/master/index.html\n",
    "#https://stable-baselines3.readthedocs.io/en/master/modules/dqn.html\n",
    "#https://www.youtube.com/watch?v=nRHjymV2PX8\n",
    "#https://www.gymlibrary.dev/environments/classic_control/cart_pole/\n",
    "#https://stackoverflow.com/questions/74314778/nameerror-name-glpushmatrix-is-not-defined"
   ]
  },
  {
   "cell_type": "code",
   "execution_count": null,
   "metadata": {},
   "outputs": [],
   "source": [
    "#pip install stable-baselines3[extra]\n",
    "#pip install pyglet==1.5.27"
   ]
  },
  {
   "cell_type": "code",
   "execution_count": 2,
   "metadata": {},
   "outputs": [],
   "source": [
    "import gym \n",
    "from stable_baselines3 import DQN"
   ]
  },
  {
   "cell_type": "code",
   "execution_count": 3,
   "metadata": {},
   "outputs": [],
   "source": [
    "env = gym.make('CartPole-v1')"
   ]
  },
  {
   "cell_type": "code",
   "execution_count": null,
   "metadata": {},
   "outputs": [],
   "source": [
    "for episode in range(1, 50):\n",
    "    state = env.reset()\n",
    "    terminated = False\n",
    "    score = 0 \n",
    "    while not terminated:\n",
    "        env.render()\n",
    "        action = env.action_space.sample() #random action\n",
    "        n_state, reward, terminated, info = env.step(action)\n",
    "        score+=reward\n",
    "    print(f'{episode} - Score:{score}')\n",
    "env.close()"
   ]
  },
  {
   "cell_type": "code",
   "execution_count": null,
   "metadata": {},
   "outputs": [],
   "source": [
    "env = gym.make('CartPole-v1')\n",
    "model = DQN('MlpPolicy', env, verbose = 0)\n",
    "model.learn(total_timesteps=100000)"
   ]
  },
  {
   "cell_type": "code",
   "execution_count": 8,
   "metadata": {},
   "outputs": [
    {
     "name": "stdout",
     "output_type": "stream",
     "text": [
      "----Best Score-----\n",
      "46 - Score: 492.0\n"
     ]
    }
   ],
   "source": [
    "obs = env.reset()\n",
    "i = 0\n",
    "score = 0\n",
    "bestScore = [0,0]\n",
    "while True:\n",
    "    if i > 50:\n",
    "      env.close()\n",
    "      print('----Best Score-----')\n",
    "      print(f'{bestScore[0]} - Score: {bestScore[1]}')\n",
    "      break\n",
    "    action, _states = model.predict(obs)\n",
    "    obs, reward, terminated, info = env.step(action)\n",
    "    score += reward\n",
    "    env.render()\n",
    "    if terminated:\n",
    "      obs = env.reset()\n",
    "      i += 1\n",
    "      #print(f'{i} - Score: {score}')\n",
    "      if score > bestScore[1]:\n",
    "        bestScore[0] = i\n",
    "        bestScore[1] = score\n",
    "      score = 0"
   ]
  }
 ],
 "metadata": {
  "kernelspec": {
   "display_name": "Python 3.10.6 64-bit",
   "language": "python",
   "name": "python3"
  },
  "language_info": {
   "codemirror_mode": {
    "name": "ipython",
    "version": 3
   },
   "file_extension": ".py",
   "mimetype": "text/x-python",
   "name": "python",
   "nbconvert_exporter": "python",
   "pygments_lexer": "ipython3",
   "version": "3.10.6"
  },
  "orig_nbformat": 4,
  "vscode": {
   "interpreter": {
    "hash": "68b7b2992015965862964422318784d011c46f0cefacf66fb4dc9ffbce81bd73"
   }
  }
 },
 "nbformat": 4,
 "nbformat_minor": 2
}
