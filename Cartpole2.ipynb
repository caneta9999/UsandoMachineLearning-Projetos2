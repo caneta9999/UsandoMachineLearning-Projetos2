{
 "cells": [
  {
   "cell_type": "code",
   "execution_count": null,
   "metadata": {},
   "outputs": [],
   "source": [
    "#Credits and Thanks\n",
    "#https://www.youtube.com/watch?v=cO5g5qLrLSo\n",
    "#https://keras-rl.readthedocs.io/en/latest/agents/overview/\n",
    "#https://www.gymlibrary.dev/environments/classic_control/cart_pole/"
   ]
  },
  {
   "cell_type": "code",
   "execution_count": 23,
   "metadata": {},
   "outputs": [],
   "source": [
    "import gym\n",
    "import numpy as np\n",
    "import tensorflow"
   ]
  },
  {
   "cell_type": "code",
   "execution_count": 24,
   "metadata": {},
   "outputs": [],
   "source": [
    "env = gym.make(\"CartPole-v1\")\n",
    "states = env.observation_space.shape[0]\n",
    "actions = env.action_space.n"
   ]
  },
  {
   "cell_type": "code",
   "execution_count": 25,
   "metadata": {},
   "outputs": [],
   "source": [
    "def build_model(states, actions, layers):\n",
    "    model = tensorflow.keras.Sequential()\n",
    "    model.add(tensorflow.keras.layers.Flatten(input_shape=(1,states)))\n",
    "    for layer in range (0,layers):\n",
    "        model.add(tensorflow.keras.layers.Dense(24, activation='relu'))\n",
    "    model.add(tensorflow.keras.layers.Dense(actions, activation='linear'))\n",
    "    return model"
   ]
  },
  {
   "cell_type": "code",
   "execution_count": 26,
   "metadata": {},
   "outputs": [],
   "source": [
    "model = build_model(states, actions, 3)"
   ]
  },
  {
   "cell_type": "code",
   "execution_count": 27,
   "metadata": {},
   "outputs": [],
   "source": [
    "from rl.agents import DQNAgent\n",
    "from rl.agents import SARSAAgent\n",
    "from rl.policy import BoltzmannQPolicy\n",
    "from rl.memory import SequentialMemory"
   ]
  },
  {
   "cell_type": "code",
   "execution_count": 28,
   "metadata": {},
   "outputs": [],
   "source": [
    "def build_agent(model, actions, agent=\"DQN\"):\n",
    "    policy = BoltzmannQPolicy()\n",
    "    memory = SequentialMemory(limit=50000, window_length=1)\n",
    "    if agent==\"DQN\":\n",
    "        return DQNAgent(model=model, memory=memory, policy=policy, nb_actions=actions)\n",
    "    elif agent==\"SARSA\":\n",
    "        return SARSAAgent(model=model, policy=policy, nb_actions=actions)\n",
    "    else:\n",
    "        return"
   ]
  },
  {
   "cell_type": "code",
   "execution_count": 29,
   "metadata": {},
   "outputs": [
    {
     "name": "stdout",
     "output_type": "stream",
     "text": [
      "Training SARSA model...\n",
      "Training DQN model...\n"
     ]
    }
   ],
   "source": [
    "models = {\"SARSA\": \"\", \"DQN\": \"\"}\n",
    "for modelName in models.keys():\n",
    "    print(f'Training {modelName} model...')\n",
    "    agent = build_agent(model, actions, modelName)\n",
    "    agent.compile(tensorflow.keras.optimizers.legacy.Adam(lr=1e-3), metrics=['mae'])\n",
    "    agent.fit(env, nb_steps=50000, visualize=False, verbose=0)\n",
    "    models[modelName] = agent"
   ]
  },
  {
   "cell_type": "code",
   "execution_count": 30,
   "metadata": {},
   "outputs": [
    {
     "name": "stdout",
     "output_type": "stream",
     "text": [
      "SARSA :  500.0\n",
      "DQN :  500.0\n"
     ]
    }
   ],
   "source": [
    "for modelName in models.keys():\n",
    "    scores = models[modelName].test(env, nb_episodes=100, visualize=False,verbose=0)\n",
    "    print(modelName, \": \", np.mean(scores.history['episode_reward']))\n",
    "    models[modelName].save_weights(f'{modelName}_weights.h5f')"
   ]
  }
 ],
 "metadata": {
  "kernelspec": {
   "display_name": "Python 3.10.6 64-bit",
   "language": "python",
   "name": "python3"
  },
  "language_info": {
   "codemirror_mode": {
    "name": "ipython",
    "version": 3
   },
   "file_extension": ".py",
   "mimetype": "text/x-python",
   "name": "python",
   "nbconvert_exporter": "python",
   "pygments_lexer": "ipython3",
   "version": "3.10.6"
  },
  "orig_nbformat": 4,
  "vscode": {
   "interpreter": {
    "hash": "68b7b2992015965862964422318784d011c46f0cefacf66fb4dc9ffbce81bd73"
   }
  }
 },
 "nbformat": 4,
 "nbformat_minor": 2
}
